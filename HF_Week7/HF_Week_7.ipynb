{
 "cells": [
  {
   "cell_type": "code",
   "execution_count": 1,
   "id": "3f089ae5",
   "metadata": {},
   "outputs": [],
   "source": [
    "# as a first step i choose the virtual environtment called venv - i am writing this code under venv\n",
    "\n",
    "import json"
   ]
  },
  {
   "cell_type": "code",
   "execution_count": 7,
   "id": "8d0a65b0",
   "metadata": {},
   "outputs": [],
   "source": [
    "pathfolder = '/Users/ballaipeter/cubix_data_engineer_live/HF_Week7/json_handling'\n",
    "inputfile = 'spotify_playlist.json'\n",
    "filepath = pathfolder + '/' + inputfile\n",
    "\n",
    "with open(filepath,\"r\") as json_file:\n",
    "    data = json.load(json_file)"
   ]
  },
  {
   "cell_type": "code",
   "execution_count": null,
   "id": "8a2ae73c",
   "metadata": {},
   "outputs": [],
   "source": []
  }
 ],
 "metadata": {
  "kernelspec": {
   "display_name": "venv",
   "language": "python",
   "name": "python3"
  },
  "language_info": {
   "codemirror_mode": {
    "name": "ipython",
    "version": 3
   },
   "file_extension": ".py",
   "mimetype": "text/x-python",
   "name": "python",
   "nbconvert_exporter": "python",
   "pygments_lexer": "ipython3",
   "version": "3.13.3"
  }
 },
 "nbformat": 4,
 "nbformat_minor": 5
}
