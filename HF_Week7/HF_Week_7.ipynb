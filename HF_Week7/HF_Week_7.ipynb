{
 "cells": [
  {
   "cell_type": "code",
   "execution_count": null,
   "id": "3f089ae5",
   "metadata": {},
   "outputs": [],
   "source": [
    "# as a first step i chose the virtual environtment called venv - i am writing this code under venv\n",
    "import json"
   ]
  },
  {
   "cell_type": "code",
   "execution_count": null,
   "id": "8d0a65b0",
   "metadata": {},
   "outputs": [],
   "source": [
    "# 1.) open the spotify_playlist.json - defining the filepath & using the python json module \n",
    "\n",
    "pathfolder = '/Users/ballaipeter/cubix_data_engineer_live/HF_Week7/json_handling'\n",
    "inputfile = 'spotify_playlist.json'\n",
    "filepath = pathfolder + '/' + inputfile\n",
    "\n",
    "with open(filepath,\"r\") as json_file:\n",
    "    data = json.load(json_file)"
   ]
  },
  {
   "cell_type": "code",
   "execution_count": null,
   "id": "8a2ae73c",
   "metadata": {},
   "outputs": [
    {
     "name": "stdout",
     "output_type": "stream",
     "text": [
      "The song ranked 31st on the top 50 list is titled: LALA.\n"
     ]
    }
   ],
   "source": [
    "# 2.) What is the name of the 31st track? Print it out.\n",
    "\n",
    "data['contents']['items'].sort(key=lambda item: item['playCount'])\n",
    "data['contents']['items'][30]\n",
    "\n",
    "song_31 = data['contents']['items'][30]\n",
    "song_31['name']\n",
    "\n",
    "print(f'The song ranked 31st on the top 50 list is titled: {song_31['name']}.')\n",
    "\n",
    "\n",
    "\n"
   ]
  },
  {
   "cell_type": "code",
   "execution_count": 145,
   "id": "e9853227",
   "metadata": {},
   "outputs": [
    {
     "name": "stdout",
     "output_type": "stream",
     "text": [
      "31309112207\n"
     ]
    }
   ],
   "source": [
    "# 3.) What is the total playcountfor all 50 tracks? Print the number only.\n",
    "total = 0\n",
    "for track in data['contents']['items']:\n",
    "    total += (track['playCount'])\n",
    "#print(f'The total play count of all 50 tracks is {total}.')\n",
    "print(total)\n",
    "    "
   ]
  },
  {
   "cell_type": "code",
   "execution_count": 147,
   "id": "76f0cfb9",
   "metadata": {},
   "outputs": [
    {
     "name": "stdout",
     "output_type": "stream",
     "text": [
      "The track with the lowest playcount is \"Si No Estás\".\n"
     ]
    }
   ],
   "source": [
    "# 4.) Which track has the lowest playcount?\n",
    "lowest_playcount = min(data['contents']['items'], key = lambda track: track['playCount'])\n",
    "\n",
    "print(f'The track with the lowest playcount is \"{lowest_playcount['name']}\".')"
   ]
  },
  {
   "cell_type": "code",
   "execution_count": null,
   "id": "3dc20fe7",
   "metadata": {},
   "outputs": [],
   "source": []
  }
 ],
 "metadata": {
  "kernelspec": {
   "display_name": "venv",
   "language": "python",
   "name": "python3"
  },
  "language_info": {
   "codemirror_mode": {
    "name": "ipython",
    "version": 3
   },
   "file_extension": ".py",
   "mimetype": "text/x-python",
   "name": "python",
   "nbconvert_exporter": "python",
   "pygments_lexer": "ipython3",
   "version": "3.13.3"
  }
 },
 "nbformat": 4,
 "nbformat_minor": 5
}
