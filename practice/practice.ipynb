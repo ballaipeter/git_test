{
 "cells": [
  {
   "cell_type": "code",
   "execution_count": 4,
   "id": "9606d408",
   "metadata": {},
   "outputs": [
    {
     "name": "stdout",
     "output_type": "stream",
     "text": [
      "<class 'str'>\n",
      "<class 'int'>\n",
      "<class 'float'>\n"
     ]
    }
   ],
   "source": [
    "name = 'Peter'\n",
    "age = 34\n",
    "weight = 82.5\n",
    "\n",
    "print(type(name))\n",
    "print(type(age))\n",
    "print(type(weight))"
   ]
  },
  {
   "cell_type": "code",
   "execution_count": 11,
   "id": "294bdfb1",
   "metadata": {},
   "outputs": [
    {
     "name": "stdout",
     "output_type": "stream",
     "text": [
      "PETER BALLAI\n",
      "peter ballai\n",
      "Peter Ballai\n"
     ]
    }
   ],
   "source": [
    "a = 'Peter Ballai'\n",
    "\n",
    "print(a.upper())\n",
    "print(a.lower())\n",
    "\n",
    "b = 'peter ballai'\n",
    "print(b.title())"
   ]
  },
  {
   "cell_type": "code",
   "execution_count": 12,
   "id": "66344310",
   "metadata": {},
   "outputs": [
    {
     "data": {
      "text/plain": [
       "'Peter'"
      ]
     },
     "execution_count": 12,
     "metadata": {},
     "output_type": "execute_result"
    }
   ],
   "source": [
    "task = '     Peter     '\n",
    "task.strip()"
   ]
  },
  {
   "cell_type": "code",
   "execution_count": 13,
   "id": "bf136d83",
   "metadata": {},
   "outputs": [
    {
     "data": {
      "text/plain": [
       "'Petyka'"
      ]
     },
     "execution_count": 13,
     "metadata": {},
     "output_type": "execute_result"
    }
   ],
   "source": [
    "task2 = 'Peter'\n",
    "task2.replace('Peter', 'Petyka')"
   ]
  },
  {
   "cell_type": "code",
   "execution_count": 19,
   "id": "5b902c63",
   "metadata": {},
   "outputs": [
    {
     "data": {
      "text/plain": [
       "13"
      ]
     },
     "execution_count": 19,
     "metadata": {},
     "output_type": "execute_result"
    }
   ],
   "source": [
    "task3 = 'Peter Ballai Artur'\n",
    "task3.find('Artur')"
   ]
  },
  {
   "cell_type": "code",
   "execution_count": 22,
   "id": "1c5b890b",
   "metadata": {},
   "outputs": [
    {
     "data": {
      "text/plain": [
       "True"
      ]
     },
     "execution_count": 22,
     "metadata": {},
     "output_type": "execute_result"
    }
   ],
   "source": [
    "task4 = 'Peter Ballai'\n",
    "task4.endswith('Ballai')"
   ]
  },
  {
   "cell_type": "code",
   "execution_count": null,
   "id": "63e7815b",
   "metadata": {},
   "outputs": [
    {
     "data": {
      "text/plain": [
       "13"
      ]
     },
     "execution_count": 24,
     "metadata": {},
     "output_type": "execute_result"
    }
   ],
   "source": [
    "task5 = 'Peter Ballai Artur'\n",
    "task5.find('Artur')"
   ]
  },
  {
   "cell_type": "code",
   "execution_count": 41,
   "id": "fb4c72ef",
   "metadata": {},
   "outputs": [
    {
     "data": {
      "text/plain": [
       "'Artur Ballai'"
      ]
     },
     "execution_count": 41,
     "metadata": {},
     "output_type": "execute_result"
    }
   ],
   "source": [
    "thirdname = task5[13:]\n",
    "thirdname\n",
    "\n",
    "task5.find('Ballai')\n",
    "lastname = task5[6:12]\n",
    "lastname\n",
    "\n",
    "new_name = thirdname + ' ' + lastname\n",
    "new_name"
   ]
  },
  {
   "cell_type": "code",
   "execution_count": null,
   "id": "b45c0b21",
   "metadata": {},
   "outputs": [
    {
     "data": {
      "text/plain": [
       "'Artur'"
      ]
     },
     "execution_count": 28,
     "metadata": {},
     "output_type": "execute_result"
    }
   ],
   "source": []
  },
  {
   "cell_type": "code",
   "execution_count": 42,
   "id": "d8820eeb",
   "metadata": {},
   "outputs": [
    {
     "data": {
      "text/plain": [
       "'ancn'"
      ]
     },
     "execution_count": 42,
     "metadata": {},
     "output_type": "execute_result"
    }
   ],
   "source": [
    "s = 'Anaconda'\n",
    "s[8: : -2]"
   ]
  },
  {
   "cell_type": "code",
   "execution_count": 46,
   "id": "a936fb44",
   "metadata": {},
   "outputs": [
    {
     "data": {
      "text/plain": [
       "6"
      ]
     },
     "execution_count": 46,
     "metadata": {},
     "output_type": "execute_result"
    }
   ],
   "source": [
    "substring = 'python' \n",
    "mainstring = \" Ballai Péter megtanul python-t programozni\"\n",
    "len(substring)"
   ]
  },
  {
   "cell_type": "code",
   "execution_count": 50,
   "id": "a0d08483",
   "metadata": {},
   "outputs": [],
   "source": [
    "substring_lenght = len(substring)\n",
    "substring_start = mainstring.find(substring)\n"
   ]
  },
  {
   "cell_type": "code",
   "execution_count": 52,
   "id": "60a59327",
   "metadata": {},
   "outputs": [
    {
     "data": {
      "text/plain": [
       "29"
      ]
     },
     "execution_count": 52,
     "metadata": {},
     "output_type": "execute_result"
    }
   ],
   "source": [
    "substring_end = substring_start + substring_lenght\n",
    "substring_end"
   ]
  },
  {
   "cell_type": "code",
   "execution_count": 53,
   "id": "b0fb2fc3",
   "metadata": {},
   "outputs": [
    {
     "data": {
      "text/plain": [
       "'python'"
      ]
     },
     "execution_count": 53,
     "metadata": {},
     "output_type": "execute_result"
    }
   ],
   "source": [
    "mainstring[23:29]"
   ]
  },
  {
   "cell_type": "code",
   "execution_count": 54,
   "id": "6317f950",
   "metadata": {},
   "outputs": [
    {
     "data": {
      "text/plain": [
       "'aa bb'"
      ]
     },
     "execution_count": 54,
     "metadata": {},
     "output_type": "execute_result"
    }
   ],
   "source": [
    "a = '  aa   bb   '\n",
    "# split text by space (extra spaces ignored)\n",
    "wordlist = a.split()\n",
    "# concatenate texts by separator\n",
    "' '.join(wordlist)"
   ]
  },
  {
   "cell_type": "code",
   "execution_count": 57,
   "id": "61414893",
   "metadata": {},
   "outputs": [
    {
     "data": {
      "text/plain": [
       "'aa bb'"
      ]
     },
     "execution_count": 57,
     "metadata": {},
     "output_type": "execute_result"
    }
   ],
   "source": [
    "a = '  aa   bb  '\n",
    "wordlist = a.split()\n",
    "wordlist\n",
    "' '.join(wordlist)"
   ]
  },
  {
   "cell_type": "code",
   "execution_count": 60,
   "id": "39a74e2e",
   "metadata": {},
   "outputs": [],
   "source": [
    "a = '  Peter        Ballai'\n",
    "new_a = a.split()"
   ]
  },
  {
   "cell_type": "code",
   "execution_count": 61,
   "id": "105afd65",
   "metadata": {},
   "outputs": [
    {
     "data": {
      "text/plain": [
       "'Peter Ballai'"
      ]
     },
     "execution_count": 61,
     "metadata": {},
     "output_type": "execute_result"
    }
   ],
   "source": [
    "' '.join(new_a)"
   ]
  },
  {
   "cell_type": "code",
   "execution_count": null,
   "id": "d446a1a1",
   "metadata": {},
   "outputs": [],
   "source": []
  }
 ],
 "metadata": {
  "kernelspec": {
   "display_name": "base",
   "language": "python",
   "name": "python3"
  },
  "language_info": {
   "codemirror_mode": {
    "name": "ipython",
    "version": 3
   },
   "file_extension": ".py",
   "mimetype": "text/x-python",
   "name": "python",
   "nbconvert_exporter": "python",
   "pygments_lexer": "ipython3",
   "version": "3.12.7"
  }
 },
 "nbformat": 4,
 "nbformat_minor": 5
}
